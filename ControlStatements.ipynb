{
  "nbformat": 4,
  "nbformat_minor": 0,
  "metadata": {
    "colab": {
      "provenance": []
    },
    "kernelspec": {
      "name": "python3",
      "display_name": "Python 3"
    },
    "language_info": {
      "name": "python"
    }
  },
  "cells": [
    {
      "cell_type": "code",
      "execution_count": 4,
      "metadata": {
        "colab": {
          "base_uri": "https://localhost:8080/"
        },
        "id": "pRy1ZygU3lyO",
        "outputId": "b7a1225a-fcce-4bd4-e1fd-7bfed5d370e6"
      },
      "outputs": [
        {
          "output_type": "stream",
          "name": "stdout",
          "text": [
            "Enter the age:134\n",
            "You are eligible to vote\n"
          ]
        }
      ],
      "source": [
        "#Control Flows\n",
        "#if statement\n",
        "val=int(input(\"Enter the age:\"))\n",
        "if val>=18:\n",
        "    print(\"You are eligible to vote\")\n",
        "\n"
      ]
    },
    {
      "cell_type": "code",
      "source": [
        "#If-Else Statement\n",
        "val=int(input(\"Enter the age:\"))\n",
        "if val>=18:\n",
        "    print(\"You are eligible to vote\")\n",
        "else:\n",
        "    print(\"You are not eligible to vote\")"
      ],
      "metadata": {
        "colab": {
          "base_uri": "https://localhost:8080/"
        },
        "id": "MrFi7Jzg4T1I",
        "outputId": "7e7cf751-01f4-418c-94a8-624e62347f2a"
      },
      "execution_count": 6,
      "outputs": [
        {
          "output_type": "stream",
          "name": "stdout",
          "text": [
            "Enter the age:45\n",
            "You are eligible to vote\n"
          ]
        }
      ]
    },
    {
      "cell_type": "code",
      "source": [
        "#Elif Statement\n",
        "val=int(input(\"Enter the age:\"))\n",
        "if val<18:\n",
        "    print(\"You are not eligible to vote\")\n",
        "elif val==18:\n",
        "    print(\"You are eligible to vote\")\n",
        "else:\n",
        "    print(\"You are eligible to vote\")\n",
        "#"
      ],
      "metadata": {
        "colab": {
          "base_uri": "https://localhost:8080/"
        },
        "id": "vMeBlkma5Mb3",
        "outputId": "7ed41783-1b4f-4d6f-d193-4016a24721a6"
      },
      "execution_count": 8,
      "outputs": [
        {
          "output_type": "stream",
          "name": "stdout",
          "text": [
            "Enter the age:78\n",
            "You are eligible to vote\n"
          ]
        }
      ]
    },
    {
      "cell_type": "code",
      "source": [
        "#nested If Else Statement\n",
        "a=int(input(\"Enter the value of a:\"))\n",
        "b=int(input(\"Enter the value of b:\"))\n",
        "c=int(input(\"Enter the value of c:\"))\n",
        "if (a>b) and (a>c):\n",
        "    print(\"a is greater\")\n",
        "elif (b>a) and (b>c):\n",
        "    print(\"b is greater\")\n",
        "else:\n",
        "    print(\"c is greater\")\n"
      ],
      "metadata": {
        "colab": {
          "base_uri": "https://localhost:8080/"
        },
        "id": "v_Zhal0Q6E5m",
        "outputId": "f65eba32-3160-4588-cf69-96c5071c472c"
      },
      "execution_count": 10,
      "outputs": [
        {
          "output_type": "stream",
          "name": "stdout",
          "text": [
            "Enter the value of a:123\n",
            "Enter the value of b:2\n",
            "Enter the value of c:11\n",
            "a is greater\n"
          ]
        }
      ]
    },
    {
      "cell_type": "code",
      "source": [
        "#Loops Statement\n",
        "#for ,while loop\n",
        "l=[1,2,3,4,5,6]\n",
        "for i in l:\n",
        "    print(i**2)"
      ],
      "metadata": {
        "colab": {
          "base_uri": "https://localhost:8080/"
        },
        "id": "yhB8lkDR6up_",
        "outputId": "5369d1a7-01bd-4ceb-d314-d30b0f359c6a"
      },
      "execution_count": 12,
      "outputs": [
        {
          "output_type": "stream",
          "name": "stdout",
          "text": [
            "1\n",
            "4\n",
            "9\n",
            "16\n",
            "25\n",
            "36\n"
          ]
        }
      ]
    },
    {
      "cell_type": "code",
      "source": [
        "#find the sum of all elements in the list\n",
        "l=[1,2,3,4,5,6]\n",
        "sum=0\n",
        "for i in l:\n",
        "    sum=sum+i\n",
        "print(sum)\n"
      ],
      "metadata": {
        "colab": {
          "base_uri": "https://localhost:8080/"
        },
        "id": "iEDthF_R7B4_",
        "outputId": "910e99b4-f129-4902-f4aa-cc95282a99fb"
      },
      "execution_count": 13,
      "outputs": [
        {
          "output_type": "stream",
          "name": "stdout",
          "text": [
            "21\n"
          ]
        }
      ]
    },
    {
      "cell_type": "code",
      "source": [
        "#Find the sum  of even odd\n",
        "l=[1,2,3,4,5,6]\n",
        "even_sum=0\n",
        "odd_sum=0\n",
        "for i in l:\n",
        "    if i%2==0:\n",
        "        even_sum=even_sum+i\n",
        "    else:\n",
        "        odd_sum=odd_sum+i\n",
        "\n",
        "print(\"Even sum is {}\".format(even_sum))\n",
        "print(\"Odd sum is {}\".format(odd_sum))"
      ],
      "metadata": {
        "colab": {
          "base_uri": "https://localhost:8080/"
        },
        "id": "gDiEJR3n7Ytf",
        "outputId": "12e051cc-2911-4e1e-a2dc-5f81e02770fb"
      },
      "execution_count": 15,
      "outputs": [
        {
          "output_type": "stream",
          "name": "stdout",
          "text": [
            "Even sum is 12\n",
            "Odd sum is 9\n"
          ]
        }
      ]
    },
    {
      "cell_type": "code",
      "source": [
        "#while loop\n",
        "i=0\n",
        "even_sum=0\n",
        "odd_sum=0\n",
        "while(i<len(l)):\n",
        "    if l[i]%2==0:\n",
        "        even_sum=even_sum+i\n",
        "    else:\n",
        "        odd_sum=odd_sum+i\n",
        "    i=i+1\n",
        "print(even_sum)\n",
        "print(odd_sum)"
      ],
      "metadata": {
        "colab": {
          "base_uri": "https://localhost:8080/"
        },
        "id": "DdxVaI0U7ske",
        "outputId": "d96b36ca-4962-49c5-fb64-bfa8fcd31c1d"
      },
      "execution_count": 17,
      "outputs": [
        {
          "output_type": "stream",
          "name": "stdout",
          "text": [
            "9\n",
            "6\n"
          ]
        }
      ]
    },
    {
      "cell_type": "code",
      "source": [
        "#Break statement\n",
        "l=[1,2,3,4,5,6]\n",
        "for i in l:\n",
        "    if i==4:\n",
        "        break\n",
        "    print(i)"
      ],
      "metadata": {
        "colab": {
          "base_uri": "https://localhost:8080/"
        },
        "id": "flFiJRaN8NKK",
        "outputId": "79a2a074-8f10-4c55-e361-1e0c002c45f2"
      },
      "execution_count": 18,
      "outputs": [
        {
          "output_type": "stream",
          "name": "stdout",
          "text": [
            "1\n",
            "2\n",
            "3\n"
          ]
        }
      ]
    },
    {
      "cell_type": "code",
      "source": [
        "#Continue statement\n",
        "l=[1,2,3,4,5,6]\n",
        "for i in l:\n",
        "    if i==4:\n",
        "        continue\n",
        "    print(i)\n",
        "#"
      ],
      "metadata": {
        "colab": {
          "base_uri": "https://localhost:8080/"
        },
        "id": "bONhz2qf80aY",
        "outputId": "8983c5f2-3ff5-4a48-8b24-85223b7707e3"
      },
      "execution_count": 19,
      "outputs": [
        {
          "output_type": "stream",
          "name": "stdout",
          "text": [
            "1\n",
            "2\n",
            "3\n",
            "5\n",
            "6\n"
          ]
        }
      ]
    },
    {
      "cell_type": "code",
      "source": [],
      "metadata": {
        "id": "iFygC2_Q869q"
      },
      "execution_count": null,
      "outputs": []
    }
  ]
}