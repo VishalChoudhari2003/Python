{
  "nbformat": 4,
  "nbformat_minor": 0,
  "metadata": {
    "colab": {
      "provenance": [],
      "authorship_tag": "ABX9TyOobCMLqVKUqleFyjVT0jcA",
      "include_colab_link": true
    },
    "kernelspec": {
      "name": "python3",
      "display_name": "Python 3"
    },
    "language_info": {
      "name": "python"
    }
  },
  "cells": [
    {
      "cell_type": "markdown",
      "metadata": {
        "id": "view-in-github",
        "colab_type": "text"
      },
      "source": [
        "<a href=\"https://colab.research.google.com/github/VishalChoudhari2003/Python/blob/main/Functions_Part2.ipynb\" target=\"_parent\"><img src=\"https://colab.research.google.com/assets/colab-badge.svg\" alt=\"Open In Colab\"/></a>"
      ]
    },
    {
      "cell_type": "code",
      "execution_count": 5,
      "metadata": {
        "colab": {
          "base_uri": "https://localhost:8080/"
        },
        "id": "TG1ZWpOP_EuM",
        "outputId": "8471d040-7e72-4230-9af0-3d615f1e7ed4"
      },
      "outputs": [
        {
          "output_type": "stream",
          "name": "stdout",
          "text": [
            "hello Vishal you are 25 years old\n"
          ]
        }
      ],
      "source": [
        "##Positonal And keyword argument\n",
        "def hello(name,age=22):\n",
        "  print('hello '+name+\" you are \"+str(age)+' years old')\n",
        "\n",
        "hello(\"Vishal\",25)"
      ]
    },
    {
      "cell_type": "code",
      "source": [
        "#make flexible functions\n",
        "#*operATOR\n",
        "#*args\n",
        "\n",
        "def all_total(*args):\n",
        "    total=0\n",
        "    for num in args:\n",
        "        total+=num\n",
        "    return total\n",
        "\n",
        "\n",
        "print(all_total(1,2,3,4,5))\n"
      ],
      "metadata": {
        "colab": {
          "base_uri": "https://localhost:8080/"
        },
        "id": "CUAxFeAeCatx",
        "outputId": "d1336966-e659-4886-ce23-3416b1456622"
      },
      "execution_count": 6,
      "outputs": [
        {
          "output_type": "stream",
          "name": "stdout",
          "text": [
            "15\n"
          ]
        }
      ]
    },
    {
      "cell_type": "code",
      "source": [
        "#*args with normal parameter\n",
        "\n",
        "def multiply_nums(num,*args):\n",
        "    multiply=1\n",
        "    print(num)\n",
        "    print(args)\n",
        "    for i in args:\n",
        "        multiply*=i\n",
        "\n",
        "    return multiply\n",
        "\n",
        "print(multiply_nums(1,2,3,4))"
      ],
      "metadata": {
        "colab": {
          "base_uri": "https://localhost:8080/"
        },
        "id": "YD4olp4yDK--",
        "outputId": "3dc94953-5d16-4aad-d317-20b81082f32b"
      },
      "execution_count": 7,
      "outputs": [
        {
          "output_type": "stream",
          "name": "stdout",
          "text": [
            "1\n",
            "(2, 3, 4)\n",
            "24\n"
          ]
        }
      ]
    },
    {
      "cell_type": "code",
      "source": [
        "def to_power(num,*args):\n",
        "    if args:\n",
        "        return [i**num for i in args]\n",
        "    else:\n",
        "        return \"You didnt pass any args\"\n",
        "\n",
        "nums=[1,2,3]\n",
        "print(to_power(2,*nums))"
      ],
      "metadata": {
        "colab": {
          "base_uri": "https://localhost:8080/"
        },
        "id": "1a0SEeFjDSwD",
        "outputId": "69cc54ff-6f49-4c0b-be47-e6f282ae8de5"
      },
      "execution_count": 8,
      "outputs": [
        {
          "output_type": "stream",
          "name": "stdout",
          "text": [
            "[1, 4, 9]\n"
          ]
        }
      ]
    },
    {
      "cell_type": "code",
      "source": [
        "#kwargs (keyword argument)\n",
        "#**kwargs (doun=ble star operator)\n",
        "\n",
        "#kwargs as a parameter\n",
        "#It takes input as dictioanry\n",
        "def func(**kwargs):\n",
        "    print(kwargs)\n",
        "\n",
        "func(firts_name='Vishal',last_name='Choudhari')\n",
        "#dictionary unpacking\n",
        "d={'name':'Vishal','age':22}\n",
        "func(**d)"
      ],
      "metadata": {
        "colab": {
          "base_uri": "https://localhost:8080/"
        },
        "id": "L3EP8_AoDaKT",
        "outputId": "021de1ee-aef1-4b62-fc26-ad1d77f926a6"
      },
      "execution_count": 9,
      "outputs": [
        {
          "output_type": "stream",
          "name": "stdout",
          "text": [
            "{'firts_name': 'Vishal', 'last_name': 'Choudhari'}\n",
            "{'name': 'Vishal', 'age': 22}\n"
          ]
        }
      ]
    },
    {
      "cell_type": "code",
      "source": [
        "#Functions with all parameters\n",
        "#very important to understand\n",
        "\n",
        "#PADK\n",
        "#parameters\n",
        "#*args\n",
        "#default parameters\n",
        "#**kwargs\n",
        "\n",
        "def func(name,*args,last_name='unklnown',**kwargs):\n",
        "    print(name)\n",
        "    print(args)\n",
        "    print(last_name)\n",
        "    print(kwargs)\n",
        "\n",
        "func('Vishal',1,2,3, a=1,b=2)"
      ],
      "metadata": {
        "colab": {
          "base_uri": "https://localhost:8080/"
        },
        "id": "8wC4zNxMDg04",
        "outputId": "7ac85bab-8481-4946-98dc-7b67867fce50"
      },
      "execution_count": 10,
      "outputs": [
        {
          "output_type": "stream",
          "name": "stdout",
          "text": [
            "Vishal\n",
            "(1, 2, 3)\n",
            "unklnown\n",
            "{'a': 1, 'b': 2}\n"
          ]
        }
      ]
    },
    {
      "cell_type": "code",
      "source": [
        "\n",
        "\n",
        "def multiply_nums(*args):\n",
        "    multiply=1\n",
        "\n",
        "    print(args)\n",
        "    for i in args:\n",
        "        multiply*=i\n",
        "\n",
        "    return multiply\n",
        "\n",
        "nums=[1,2,3]\n",
        "print(multiply_nums(*nums))  #* SE UNPACK"
      ],
      "metadata": {
        "colab": {
          "base_uri": "https://localhost:8080/"
        },
        "id": "Nhcfp_8mDpl6",
        "outputId": "2c56d633-922e-446e-b290-aeb0fe108b88"
      },
      "execution_count": 11,
      "outputs": [
        {
          "output_type": "stream",
          "name": "stdout",
          "text": [
            "(1, 2, 3)\n",
            "6\n"
          ]
        }
      ]
    },
    {
      "cell_type": "code",
      "source": [],
      "metadata": {
        "id": "VcYy22IBDz5B"
      },
      "execution_count": null,
      "outputs": []
    }
  ]
}