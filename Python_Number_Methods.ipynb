{
  "nbformat": 4,
  "nbformat_minor": 0,
  "metadata": {
    "colab": {
      "provenance": [],
      "authorship_tag": "ABX9TyMdl/KsRyYj2iHyt+ESX0+w",
      "include_colab_link": true
    },
    "kernelspec": {
      "name": "python3",
      "display_name": "Python 3"
    },
    "language_info": {
      "name": "python"
    }
  },
  "cells": [
    {
      "cell_type": "markdown",
      "metadata": {
        "id": "view-in-github",
        "colab_type": "text"
      },
      "source": [
        "<a href=\"https://colab.research.google.com/github/VishalChoudhari2003/Python/blob/main/Python_Number_Methods.ipynb\" target=\"_parent\"><img src=\"https://colab.research.google.com/assets/colab-badge.svg\" alt=\"Open In Colab\"/></a>"
      ]
    },
    {
      "cell_type": "markdown",
      "source": [
        "abs()\n"
      ],
      "metadata": {
        "id": "Kwkce01Jz-Ez"
      }
    },
    {
      "cell_type": "code",
      "source": [
        "abs(-10)"
      ],
      "metadata": {
        "colab": {
          "base_uri": "https://localhost:8080/"
        },
        "id": "F1gsTHjN0BxD",
        "outputId": "bbd67ac8-58cd-4279-9003-8f1381fb8948"
      },
      "execution_count": 4,
      "outputs": [
        {
          "output_type": "execute_result",
          "data": {
            "text/plain": [
              "10"
            ]
          },
          "metadata": {},
          "execution_count": 4
        }
      ]
    },
    {
      "cell_type": "markdown",
      "source": [
        "Ceil()\n"
      ],
      "metadata": {
        "id": "bUcaWvor0YtZ"
      }
    },
    {
      "cell_type": "code",
      "source": [
        "import math\n",
        "print(math.ceil(34.5))\n",
        "math.ceil(-44.5)"
      ],
      "metadata": {
        "colab": {
          "base_uri": "https://localhost:8080/"
        },
        "id": "8Epv4iwt0EZV",
        "outputId": "75e6c17a-9b47-4a85-ee7a-0fe619ec9538"
      },
      "execution_count": 8,
      "outputs": [
        {
          "output_type": "stream",
          "name": "stdout",
          "text": [
            "35\n"
          ]
        },
        {
          "output_type": "execute_result",
          "data": {
            "text/plain": [
              "-44"
            ]
          },
          "metadata": {},
          "execution_count": 8
        }
      ]
    },
    {
      "cell_type": "markdown",
      "source": [
        "floor()"
      ],
      "metadata": {
        "id": "j2ZBwAo30qT8"
      }
    },
    {
      "cell_type": "code",
      "source": [
        "math.floor(57.6)"
      ],
      "metadata": {
        "colab": {
          "base_uri": "https://localhost:8080/"
        },
        "id": "ky5Du9zr0H1D",
        "outputId": "e1d62ed6-ec87-452c-d1a9-ed093e405f0e"
      },
      "execution_count": 10,
      "outputs": [
        {
          "output_type": "execute_result",
          "data": {
            "text/plain": [
              "57"
            ]
          },
          "metadata": {},
          "execution_count": 10
        }
      ]
    },
    {
      "cell_type": "markdown",
      "source": [
        "Exponetial Function\n"
      ],
      "metadata": {
        "id": "N2BTcEj9009e"
      }
    },
    {
      "cell_type": "code",
      "source": [
        "math.exp(10)"
      ],
      "metadata": {
        "colab": {
          "base_uri": "https://localhost:8080/"
        },
        "id": "ayPKj6LJ0v3u",
        "outputId": "d1b77964-d79b-4220-d435-c67fc2bcf0ef"
      },
      "execution_count": 11,
      "outputs": [
        {
          "output_type": "execute_result",
          "data": {
            "text/plain": [
              "22026.465794806718"
            ]
          },
          "metadata": {},
          "execution_count": 11
        }
      ]
    },
    {
      "cell_type": "markdown",
      "source": [
        "fabs"
      ],
      "metadata": {
        "id": "5boTOPcu1Ahb"
      }
    },
    {
      "cell_type": "code",
      "source": [
        "math.fabs(-10)"
      ],
      "metadata": {
        "colab": {
          "base_uri": "https://localhost:8080/"
        },
        "id": "42sfDmvE09Fj",
        "outputId": "145ac77f-6153-4ede-8345-a873d226a634"
      },
      "execution_count": 12,
      "outputs": [
        {
          "output_type": "execute_result",
          "data": {
            "text/plain": [
              "10.0"
            ]
          },
          "metadata": {},
          "execution_count": 12
        }
      ]
    },
    {
      "cell_type": "markdown",
      "source": [
        "**Logs\n",
        "**"
      ],
      "metadata": {
        "id": "fjnwYX401PrI"
      }
    },
    {
      "cell_type": "code",
      "source": [
        "math.log(20)\n",
        "math.log10(10)"
      ],
      "metadata": {
        "colab": {
          "base_uri": "https://localhost:8080/"
        },
        "id": "TSfzHrB51Lhb",
        "outputId": "8464ffd8-e478-49fd-9a7f-8b69182b86a8"
      },
      "execution_count": 15,
      "outputs": [
        {
          "output_type": "execute_result",
          "data": {
            "text/plain": [
              "1.0"
            ]
          },
          "metadata": {},
          "execution_count": 15
        }
      ]
    },
    {
      "cell_type": "markdown",
      "source": [
        "max()\n",
        "\n",
        "\n",
        "\n"
      ],
      "metadata": {
        "id": "ycSDwvrF1sbi"
      }
    },
    {
      "cell_type": "code",
      "source": [
        "max(12,23,45)"
      ],
      "metadata": {
        "colab": {
          "base_uri": "https://localhost:8080/"
        },
        "id": "5PSRehL11a1c",
        "outputId": "19f119ff-977e-43f3-a340-42aaec9a692c"
      },
      "execution_count": 16,
      "outputs": [
        {
          "output_type": "execute_result",
          "data": {
            "text/plain": [
              "45"
            ]
          },
          "metadata": {},
          "execution_count": 16
        }
      ]
    },
    {
      "cell_type": "markdown",
      "source": [
        "min()\n"
      ],
      "metadata": {
        "id": "zANbtMCs168a"
      }
    },
    {
      "cell_type": "code",
      "source": [
        "min(12,1,2,3)"
      ],
      "metadata": {
        "colab": {
          "base_uri": "https://localhost:8080/"
        },
        "id": "6X3V5p3O14Mj",
        "outputId": "630537f7-173c-4524-f4ed-32c11549d6ef"
      },
      "execution_count": 17,
      "outputs": [
        {
          "output_type": "execute_result",
          "data": {
            "text/plain": [
              "1"
            ]
          },
          "metadata": {},
          "execution_count": 17
        }
      ]
    },
    {
      "cell_type": "markdown",
      "source": [
        "##Pow()"
      ],
      "metadata": {
        "id": "SJZSgEKE2DD1"
      }
    },
    {
      "cell_type": "code",
      "source": [
        "math.pow(2,3)"
      ],
      "metadata": {
        "colab": {
          "base_uri": "https://localhost:8080/"
        },
        "id": "55vWPK2C2AmT",
        "outputId": "88e0b8d4-b248-473e-e9b7-4e2a989d9f1e"
      },
      "execution_count": 18,
      "outputs": [
        {
          "output_type": "execute_result",
          "data": {
            "text/plain": [
              "8.0"
            ]
          },
          "metadata": {},
          "execution_count": 18
        }
      ]
    },
    {
      "cell_type": "markdown",
      "source": [
        "##sqrt()"
      ],
      "metadata": {
        "id": "zgV0Y4eA2QLH"
      }
    },
    {
      "cell_type": "code",
      "source": [
        "math.sqrt(16)"
      ],
      "metadata": {
        "colab": {
          "base_uri": "https://localhost:8080/"
        },
        "id": "7bUA7Tir2NqE",
        "outputId": "2d80ab91-c5b9-4518-9532-f4278afdd107"
      },
      "execution_count": 19,
      "outputs": [
        {
          "output_type": "execute_result",
          "data": {
            "text/plain": [
              "4.0"
            ]
          },
          "metadata": {},
          "execution_count": 19
        }
      ]
    },
    {
      "cell_type": "markdown",
      "source": [
        "##Trignometric Functions\n"
      ],
      "metadata": {
        "id": "GbqVWBk22ma9"
      }
    },
    {
      "cell_type": "code",
      "source": [
        "math.sin(90)\n",
        "math.tan(90)"
      ],
      "metadata": {
        "colab": {
          "base_uri": "https://localhost:8080/"
        },
        "id": "ISuOGP-I2X5E",
        "outputId": "4d5d2e5d-77fd-4de9-b0fc-d158dba2f8ea"
      },
      "execution_count": 21,
      "outputs": [
        {
          "output_type": "execute_result",
          "data": {
            "text/plain": [
              "-1.995200412208242"
            ]
          },
          "metadata": {},
          "execution_count": 21
        }
      ]
    },
    {
      "cell_type": "markdown",
      "source": [
        "##hypot()\n",
        "*italicised text*"
      ],
      "metadata": {
        "id": "emHTzb5p2zm1"
      }
    },
    {
      "cell_type": "code",
      "source": [
        "math.hypot(2,3)"
      ],
      "metadata": {
        "colab": {
          "base_uri": "https://localhost:8080/"
        },
        "id": "H-MqLP4m2swT",
        "outputId": "e18a5786-93a3-4255-89b3-7f0df8a6edf0"
      },
      "execution_count": 22,
      "outputs": [
        {
          "output_type": "execute_result",
          "data": {
            "text/plain": [
              "3.605551275463989"
            ]
          },
          "metadata": {},
          "execution_count": 22
        }
      ]
    },
    {
      "cell_type": "code",
      "source": [],
      "metadata": {
        "id": "hd1q627229WE"
      },
      "execution_count": null,
      "outputs": []
    }
  ]
}