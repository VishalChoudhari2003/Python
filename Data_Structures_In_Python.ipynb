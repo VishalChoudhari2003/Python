{
  "nbformat": 4,
  "nbformat_minor": 0,
  "metadata": {
    "colab": {
      "provenance": [],
      "authorship_tag": "ABX9TyP5XU7u0rCXCVhdk/d5dEQ9",
      "include_colab_link": true
    },
    "kernelspec": {
      "name": "python3",
      "display_name": "Python 3"
    },
    "language_info": {
      "name": "python"
    }
  },
  "cells": [
    {
      "cell_type": "markdown",
      "metadata": {
        "id": "view-in-github",
        "colab_type": "text"
      },
      "source": [
        "<a href=\"https://colab.research.google.com/github/VishalChoudhari2003/Python/blob/main/Data_Structures_In_Python.ipynb\" target=\"_parent\"><img src=\"https://colab.research.google.com/assets/colab-badge.svg\" alt=\"Open In Colab\"/></a>"
      ]
    },
    {
      "cell_type": "markdown",
      "source": [
        "##list\n",
        "In Python, a list is a built-in dynamic sized array (automatically grows and shrinks). We can store all types of items (including another list) in a list. A list may contain mixed type of items, this is possible because a list mainly stores references at contiguous locations and actual items maybe stored at different locations.\n",
        "\n",
        "List can contain duplicate items.\n",
        "List in Python are Mutable. Hence, we can modify, replace or delete the items.\n",
        "List are ordered. It maintain the order of elements based on how they are added.\n",
        "Accessing items in List can be done directly using their position (index), starting from 0."
      ],
      "metadata": {
        "id": "ziys1D-m3Rbw"
      }
    },
    {
      "cell_type": "code",
      "execution_count": 3,
      "metadata": {
        "colab": {
          "base_uri": "https://localhost:8080/"
        },
        "id": "zCvEoXXS3P_4",
        "outputId": "a583e33b-5c45-437a-8f21-834ded0881af"
      },
      "outputs": [
        {
          "output_type": "execute_result",
          "data": {
            "text/plain": [
              "list"
            ]
          },
          "metadata": {},
          "execution_count": 3
        }
      ],
      "source": [
        "type([])"
      ]
    },
    {
      "cell_type": "code",
      "source": [
        "lst=list((1,2,3,4))\n",
        "lst"
      ],
      "metadata": {
        "colab": {
          "base_uri": "https://localhost:8080/"
        },
        "id": "7uD_ciu05gxa",
        "outputId": "01dc6b6e-e2ff-42a8-d2c8-7fdfe54f4be8"
      },
      "execution_count": 15,
      "outputs": [
        {
          "output_type": "execute_result",
          "data": {
            "text/plain": [
              "[1, 2, 3, 4]"
            ]
          },
          "metadata": {},
          "execution_count": 15
        }
      ]
    },
    {
      "cell_type": "code",
      "source": [
        "\n",
        "#Strings Are Immutable\n",
        "str=\"Vishal\"\n",
        "str[0:4]"
      ],
      "metadata": {
        "colab": {
          "base_uri": "https://localhost:8080/",
          "height": 36
        },
        "id": "-anaVWW54XCT",
        "outputId": "d5774886-a4eb-4d0b-a8cf-ccae9eada540"
      },
      "execution_count": 7,
      "outputs": [
        {
          "output_type": "execute_result",
          "data": {
            "text/plain": [
              "'Vish'"
            ],
            "application/vnd.google.colaboratory.intrinsic+json": {
              "type": "string"
            }
          },
          "metadata": {},
          "execution_count": 7
        }
      ]
    },
    {
      "cell_type": "code",
      "source": [
        "lst=[1,2,3,4,5]\n",
        "lst[0:4]"
      ],
      "metadata": {
        "colab": {
          "base_uri": "https://localhost:8080/"
        },
        "id": "b75KhQEG4b_z",
        "outputId": "2a8eb3a3-1835-489d-cc93-96af3ed40259"
      },
      "execution_count": 8,
      "outputs": [
        {
          "output_type": "execute_result",
          "data": {
            "text/plain": [
              "[1, 2, 3, 4]"
            ]
          },
          "metadata": {},
          "execution_count": 8
        }
      ]
    },
    {
      "cell_type": "code",
      "source": [
        "lst=['Vishal','Choudhari',1,2,3]\n",
        "lst"
      ],
      "metadata": {
        "colab": {
          "base_uri": "https://localhost:8080/"
        },
        "id": "LYDEXwVr5Bds",
        "outputId": "ce8c410c-8464-4177-fc24-992faf50cfbc"
      },
      "execution_count": 11,
      "outputs": [
        {
          "output_type": "execute_result",
          "data": {
            "text/plain": [
              "['Vishal', 'Choudhari', 1, 2, 3]"
            ]
          },
          "metadata": {},
          "execution_count": 11
        }
      ]
    },
    {
      "cell_type": "code",
      "source": [
        "lst=['Vishal','Choudhari',1,2,3]\n",
        "lst[2]='Vishal'\n",
        "lst"
      ],
      "metadata": {
        "colab": {
          "base_uri": "https://localhost:8080/"
        },
        "id": "l0Y-W8uv5IfE",
        "outputId": "c6fc4227-4f8b-4937-da19-73171988b485"
      },
      "execution_count": 14,
      "outputs": [
        {
          "output_type": "execute_result",
          "data": {
            "text/plain": [
              "['Vishal', 'Choudhari', 'Vishal', 2, 3]"
            ]
          },
          "metadata": {},
          "execution_count": 14
        }
      ]
    },
    {
      "cell_type": "code",
      "source": [
        "lst6=[1,2,3,4,5]\n",
        "for i in lst6:\n",
        "  print(i**2)"
      ],
      "metadata": {
        "colab": {
          "base_uri": "https://localhost:8080/"
        },
        "id": "HpjS95q35VPq",
        "outputId": "cadfdec0-b8ef-4ee8-e6c8-1c9aa61250ff"
      },
      "execution_count": 18,
      "outputs": [
        {
          "output_type": "stream",
          "name": "stdout",
          "text": [
            "1\n",
            "4\n",
            "9\n",
            "16\n",
            "25\n"
          ]
        }
      ]
    },
    {
      "cell_type": "code",
      "source": [
        "len(lst6)\n",
        "max(lst6)"
      ],
      "metadata": {
        "colab": {
          "base_uri": "https://localhost:8080/"
        },
        "id": "g_D82-BI5uta",
        "outputId": "72d65cfa-6602-4735-fb97-2acdc5ace78a"
      },
      "execution_count": 22,
      "outputs": [
        {
          "output_type": "execute_result",
          "data": {
            "text/plain": [
              "5"
            ]
          },
          "metadata": {},
          "execution_count": 22
        }
      ]
    },
    {
      "cell_type": "code",
      "source": [
        "#append()\n",
        "lst=[1,2,3,4,5]\n",
        "lst.append([6,7])\n",
        "print(lst)\n",
        "#slicing\n",
        "lst[::-1]"
      ],
      "metadata": {
        "colab": {
          "base_uri": "https://localhost:8080/"
        },
        "id": "ghAylURj6Rtm",
        "outputId": "bfbde9c9-feaa-4a22-e0ee-39bfa218cbfa"
      },
      "execution_count": 31,
      "outputs": [
        {
          "output_type": "stream",
          "name": "stdout",
          "text": [
            "[1, 2, 3, 4, 5, [6, 7]]\n"
          ]
        },
        {
          "output_type": "execute_result",
          "data": {
            "text/plain": [
              "[[6, 7], 5, 4, 3, 2, 1]"
            ]
          },
          "metadata": {},
          "execution_count": 31
        }
      ]
    },
    {
      "cell_type": "code",
      "source": [
        "#insert()\n",
        "lst=[1,2,3,4,5]\n",
        "lst.insert(2,'Vishal')\n",
        "lst"
      ],
      "metadata": {
        "colab": {
          "base_uri": "https://localhost:8080/"
        },
        "id": "4sUYkkN86hAf",
        "outputId": "b898a2d6-0af8-4d47-e873-4f7bf6108172"
      },
      "execution_count": 32,
      "outputs": [
        {
          "output_type": "execute_result",
          "data": {
            "text/plain": [
              "[1, 2, 'Vishal', 3, 4, 5]"
            ]
          },
          "metadata": {},
          "execution_count": 32
        }
      ]
    },
    {
      "cell_type": "code",
      "source": [
        "#extend()\n",
        "lst=[1,2,3,4,5]\n",
        "lst.extend([6,7])\n",
        "lst"
      ],
      "metadata": {
        "colab": {
          "base_uri": "https://localhost:8080/"
        },
        "id": "M17KW2gf-Jl6",
        "outputId": "a035820a-02fc-40f5-cf86-dd2a31b44cc3"
      },
      "execution_count": 34,
      "outputs": [
        {
          "output_type": "execute_result",
          "data": {
            "text/plain": [
              "[1, 2, 3, 4, 5, 6, 7]"
            ]
          },
          "metadata": {},
          "execution_count": 34
        }
      ]
    },
    {
      "cell_type": "code",
      "source": [
        "#pop()\n",
        "lst=[1,2,3,4,5]\n",
        "lst.pop()"
      ],
      "metadata": {
        "colab": {
          "base_uri": "https://localhost:8080/"
        },
        "id": "QP85XWJL-M9t",
        "outputId": "2fab0e76-5b17-4a62-eb6f-783a4bd7f946"
      },
      "execution_count": 35,
      "outputs": [
        {
          "output_type": "execute_result",
          "data": {
            "text/plain": [
              "5"
            ]
          },
          "metadata": {},
          "execution_count": 35
        }
      ]
    },
    {
      "cell_type": "code",
      "source": [
        "\n",
        "#count()\n",
        "lst=[1,1,2,3,4,5]\n",
        "lst.count(1)"
      ],
      "metadata": {
        "colab": {
          "base_uri": "https://localhost:8080/"
        },
        "id": "7LvfefJT-iij",
        "outputId": "f7ff6590-3f18-483f-df84-9c0d9f363a23"
      },
      "execution_count": 37,
      "outputs": [
        {
          "output_type": "execute_result",
          "data": {
            "text/plain": [
              "2"
            ]
          },
          "metadata": {},
          "execution_count": 37
        }
      ]
    },
    {
      "cell_type": "markdown",
      "source": [
        "##Sets\n",
        "A Set in Python is used to store a collection of items with the following properties.\n",
        "\n",
        "No duplicate elements. If try to insert the same item again, it overwrites previous one.\n",
        "An unordered collection. When we access all items, they are accessed without any specific order and we cannot access items using indexes as we do in lists.\n",
        "Internally use hashing that makes set efficient for search, insert and delete operations. It gives a major advantage over a list for problems with these operations.\n",
        "Mutable, meaning we can add or remove elements after their creation, the individual elements within the set cannot be changed directly."
      ],
      "metadata": {
        "id": "kSetE_XG-21u"
      }
    },
    {
      "cell_type": "code",
      "source": [
        "set_var=set()\n",
        "print(set_var)\n",
        "print(type(set_var))"
      ],
      "metadata": {
        "colab": {
          "base_uri": "https://localhost:8080/"
        },
        "id": "RfipUtQQ-sMT",
        "outputId": "18cf7f5c-889b-4642-b2c0-e8245c088ea0"
      },
      "execution_count": 38,
      "outputs": [
        {
          "output_type": "stream",
          "name": "stdout",
          "text": [
            "set()\n",
            "<class 'set'>\n"
          ]
        }
      ]
    },
    {
      "cell_type": "code",
      "source": [
        "type({1,2,3,4,'Vishal'})"
      ],
      "metadata": {
        "colab": {
          "base_uri": "https://localhost:8080/"
        },
        "id": "Ol13TV9U_JEd",
        "outputId": "463f8088-a115-4ab8-9659-58fa223839ae"
      },
      "execution_count": 42,
      "outputs": [
        {
          "output_type": "execute_result",
          "data": {
            "text/plain": [
              "set"
            ]
          },
          "metadata": {},
          "execution_count": 42
        }
      ]
    },
    {
      "cell_type": "code",
      "source": [
        " set_var={1,2,3,4,'Vishal'}\n",
        " print(set_var)\n",
        " for i in set_var:\n",
        "   print(i)"
      ],
      "metadata": {
        "colab": {
          "base_uri": "https://localhost:8080/"
        },
        "id": "nagzqWfv_U8y",
        "outputId": "4f42bf09-632c-4f70-a119-47fb82e21661"
      },
      "execution_count": 44,
      "outputs": [
        {
          "output_type": "stream",
          "name": "stdout",
          "text": [
            "{1, 2, 3, 4, 'Vishal'}\n",
            "1\n",
            "2\n",
            "3\n",
            "4\n",
            "Vishal\n"
          ]
        }
      ]
    },
    {
      "cell_type": "code",
      "source": [
        "#inbuilt Functions\n",
        "set_var={1,2,3,4,'Vishal'}\n",
        "set_var.add('Choudhari')\n",
        "set_var"
      ],
      "metadata": {
        "colab": {
          "base_uri": "https://localhost:8080/"
        },
        "id": "QBMAcnYaARdb",
        "outputId": "16f53370-6ba0-46a3-a57b-9bd241c40df4"
      },
      "execution_count": 45,
      "outputs": [
        {
          "output_type": "execute_result",
          "data": {
            "text/plain": [
              "{1, 2, 3, 4, 'Choudhari', 'Vishal'}"
            ]
          },
          "metadata": {},
          "execution_count": 45
        }
      ]
    },
    {
      "cell_type": "code",
      "source": [
        "set1={1,2,3,4,5}\n",
        "set2={3,4,5,6,7}\n",
        "set2.difference(set1)"
      ],
      "metadata": {
        "colab": {
          "base_uri": "https://localhost:8080/"
        },
        "id": "R7lYQ-_UAml5",
        "outputId": "d9fbca95-f1a6-40c9-add2-791c8e8a30b5"
      },
      "execution_count": 46,
      "outputs": [
        {
          "output_type": "execute_result",
          "data": {
            "text/plain": [
              "{6, 7}"
            ]
          },
          "metadata": {},
          "execution_count": 46
        }
      ]
    },
    {
      "cell_type": "code",
      "source": [
        "set1={1,2,3,4,5}\n",
        "set2={3,4,5,6,7}\n",
        "set1.difference_update(set2)\n",
        "set1"
      ],
      "metadata": {
        "colab": {
          "base_uri": "https://localhost:8080/"
        },
        "id": "h4TyiDyfBMcD",
        "outputId": "abd8a142-814f-4d13-fae0-46351e213670"
      },
      "execution_count": 48,
      "outputs": [
        {
          "output_type": "execute_result",
          "data": {
            "text/plain": [
              "{1, 2}"
            ]
          },
          "metadata": {},
          "execution_count": 48
        }
      ]
    },
    {
      "cell_type": "code",
      "source": [
        "set1={1,2,3,4,5}\n",
        "set2={3,4,5,6,7}\n",
        "set1.intersection(set2)"
      ],
      "metadata": {
        "colab": {
          "base_uri": "https://localhost:8080/"
        },
        "id": "l5p9XIYZBRzp",
        "outputId": "b3e7c7ef-46ed-4a04-f84e-c8ffbaa00eab"
      },
      "execution_count": 49,
      "outputs": [
        {
          "output_type": "execute_result",
          "data": {
            "text/plain": [
              "{3, 4, 5}"
            ]
          },
          "metadata": {},
          "execution_count": 49
        }
      ]
    },
    {
      "cell_type": "markdown",
      "source": [
        "##Dictionaries\n",
        "A Python dictionary is a data structure that stores the value in key: value pairs. Values in a dictionary can be of any data type and can be duplicated, whereas keys can’t be repeated and must be immutable."
      ],
      "metadata": {
        "id": "dikRwR7vBwwG"
      }
    },
    {
      "cell_type": "code",
      "source": [
        "dictt={}\n",
        "type(dictt)"
      ],
      "metadata": {
        "colab": {
          "base_uri": "https://localhost:8080/"
        },
        "id": "lNL05WyyBaxq",
        "outputId": "8e164a22-5db5-460b-82e1-e57d68d4749f"
      },
      "execution_count": 50,
      "outputs": [
        {
          "output_type": "execute_result",
          "data": {
            "text/plain": [
              "dict"
            ]
          },
          "metadata": {},
          "execution_count": 50
        }
      ]
    },
    {
      "cell_type": "code",
      "source": [
        "d = {1: 'Geeks', 2: 'For', 3: 'Geeks'}\n",
        "print(d)"
      ],
      "metadata": {
        "colab": {
          "base_uri": "https://localhost:8080/"
        },
        "id": "gj1SagW_CCNt",
        "outputId": "8ecca440-4c1c-4492-c32c-7b6a98633a9e"
      },
      "execution_count": 53,
      "outputs": [
        {
          "output_type": "stream",
          "name": "stdout",
          "text": [
            "{1: 'Geeks', 2: 'For', 3: 'Geeks'}\n"
          ]
        }
      ]
    },
    {
      "cell_type": "code",
      "source": [
        "# create dictionary using { }\n",
        "d1 = {1: 'Geeks', 2: 'For', 3: 'Geeks'}\n",
        "print(d1)\n",
        "\n",
        "# create dictionary using dict() constructor\n",
        "d2 = dict(a = \"Geeks\", b = \"for\", c = \"Geeks\")\n",
        "print(d2)"
      ],
      "metadata": {
        "colab": {
          "base_uri": "https://localhost:8080/"
        },
        "id": "mcuIOu1gCe-h",
        "outputId": "a0e8dc9b-402a-4bee-b670-59c9b1ab802b"
      },
      "execution_count": 54,
      "outputs": [
        {
          "output_type": "stream",
          "name": "stdout",
          "text": [
            "{1: 'Geeks', 2: 'For', 3: 'Geeks'}\n",
            "{'a': 'Geeks', 'b': 'for', 'c': 'Geeks'}\n"
          ]
        }
      ]
    },
    {
      "cell_type": "code",
      "source": [
        "d = { \"name\": \"Alice\", 1: \"Python\", (1, 2): [1,2,4] }\n",
        "\n",
        "# Access using key\n",
        "print(d[\"name\"])\n",
        "\n",
        "# Access using get()\n",
        "print(d.get(\"name\"))"
      ],
      "metadata": {
        "colab": {
          "base_uri": "https://localhost:8080/"
        },
        "id": "cg74nmU1C_7C",
        "outputId": "7a420cc0-7546-4b0e-d52f-ce3aafdf725f"
      },
      "execution_count": 55,
      "outputs": [
        {
          "output_type": "stream",
          "name": "stdout",
          "text": [
            "Alice\n",
            "Alice\n"
          ]
        }
      ]
    },
    {
      "cell_type": "code",
      "source": [
        "d = {1: 'Geeks', 2: 'For', 3: 'Geeks'}\n",
        "\n",
        "# Adding a new key-value pair\n",
        "d[\"age\"] = 22\n",
        "\n",
        "# Updating an existing value\n",
        "d[1] = \"Python dict\"\n",
        "\n",
        "print(d)"
      ],
      "metadata": {
        "colab": {
          "base_uri": "https://localhost:8080/"
        },
        "id": "ngnl6pgdDC7q",
        "outputId": "d71a4732-652b-45c2-d3da-8f2012f7eeb2"
      },
      "execution_count": 56,
      "outputs": [
        {
          "output_type": "stream",
          "name": "stdout",
          "text": [
            "{1: 'Python dict', 2: 'For', 3: 'Geeks', 'age': 22}\n"
          ]
        }
      ]
    },
    {
      "cell_type": "code",
      "source": [
        "d = {1: 'Geeks', 2: 'For', 3: 'Geeks', 'age':22}\n",
        "\n",
        "# Using del to remove an item\n",
        "del d[\"age\"]\n",
        "print(d)\n",
        "\n",
        "# Using pop() to remove an item and return the value\n",
        "val = d.pop(1)\n",
        "print(val)\n",
        "\n",
        "# Using popitem to removes and returns\n",
        "# the last key-value pair.\n",
        "key, val = d.popitem()\n",
        "print(f\"Key: {key}, Value: {val}\")\n",
        "\n",
        "# Clear all items from the dictionary\n",
        "d.clear()\n",
        "print(d)"
      ],
      "metadata": {
        "colab": {
          "base_uri": "https://localhost:8080/"
        },
        "id": "iRCsAwKBDGzZ",
        "outputId": "b2b47242-9c39-4dd5-baa3-64b089fad288"
      },
      "execution_count": 57,
      "outputs": [
        {
          "output_type": "stream",
          "name": "stdout",
          "text": [
            "{1: 'Geeks', 2: 'For', 3: 'Geeks'}\n",
            "Geeks\n",
            "Key: 3, Value: Geeks\n",
            "{}\n"
          ]
        }
      ]
    },
    {
      "cell_type": "code",
      "source": [
        "d = {1: 'Geeks', 2: 'For', 'age':22}\n",
        "\n",
        "# Iterate over keys\n",
        "for key in d:\n",
        "    print(key)\n",
        "\n",
        "# Iterate over values\n",
        "for value in d.values():\n",
        "    print(value)\n",
        "\n",
        "# Iterate over key-value pairs\n",
        "for key, value in d.items():\n",
        "    print(f\"{key}: {value}\")"
      ],
      "metadata": {
        "colab": {
          "base_uri": "https://localhost:8080/"
        },
        "id": "xBLi1sz9DKW6",
        "outputId": "ae15bd2b-f0fb-4cae-af38-c4a08c8c7a12"
      },
      "execution_count": 58,
      "outputs": [
        {
          "output_type": "stream",
          "name": "stdout",
          "text": [
            "1\n",
            "2\n",
            "age\n",
            "Geeks\n",
            "For\n",
            "22\n",
            "1: Geeks\n",
            "2: For\n",
            "age: 22\n"
          ]
        }
      ]
    },
    {
      "cell_type": "code",
      "source": [
        "d = {1: 'Geeks', 2: 'For',\n",
        "        3: {'A': 'Welcome', 'B': 'To', 'C': 'Geeks'}}\n",
        "\n",
        "print(d)"
      ],
      "metadata": {
        "colab": {
          "base_uri": "https://localhost:8080/"
        },
        "id": "LypOpbAXDP3K",
        "outputId": "057f9299-6ca7-4828-b176-bb30956e077e"
      },
      "execution_count": 59,
      "outputs": [
        {
          "output_type": "stream",
          "name": "stdout",
          "text": [
            "{1: 'Geeks', 2: 'For', 3: {'A': 'Welcome', 'B': 'To', 'C': 'Geeks'}}\n"
          ]
        }
      ]
    },
    {
      "cell_type": "markdown",
      "source": [
        "##Tuples\n",
        "Python Tuple is a collection of objects separated by commas. A tuple is similar to a Python list in terms of indexing, nested objects, and repetition but the main difference between both is Python tuple is immutable, unlike the Python list which is mutable."
      ],
      "metadata": {
        "id": "6T6CWItjDncm"
      }
    },
    {
      "cell_type": "code",
      "source": [
        "# Note : In case of list, we use square\n",
        "# brackets []. Here we use round brackets ()\n",
        "t = (10, 20, 30)\n",
        "\n",
        "print(t)\n",
        "print(type(t))"
      ],
      "metadata": {
        "colab": {
          "base_uri": "https://localhost:8080/"
        },
        "id": "5MIHqOlVDZi7",
        "outputId": "1ffa7f01-2aa9-4c09-c362-3bbbe12cc8aa"
      },
      "execution_count": 60,
      "outputs": [
        {
          "output_type": "stream",
          "name": "stdout",
          "text": [
            "(10, 20, 30)\n",
            "<class 'tuple'>\n"
          ]
        }
      ]
    },
    {
      "cell_type": "code",
      "source": [
        "t = (1, 2, 3, 4, 5)\n",
        "\n",
        "# tuples are indexed\n",
        "print(t[1])\n",
        "print(t[4])\n",
        "\n",
        "# tuples contain duplicate elements\n",
        "t = (1, 2, 3, 4, 2, 3)\n",
        "print(t)\n",
        "\n",
        "# updating an element\n",
        "t[1] = 100\n",
        "print(t)"
      ],
      "metadata": {
        "colab": {
          "base_uri": "https://localhost:8080/",
          "height": 256
        },
        "id": "DxTuPRPQDy5N",
        "outputId": "7856b723-42b9-4e53-e0f9-057e00725add"
      },
      "execution_count": 61,
      "outputs": [
        {
          "output_type": "stream",
          "name": "stdout",
          "text": [
            "2\n",
            "5\n",
            "(1, 2, 3, 4, 2, 3)\n"
          ]
        },
        {
          "output_type": "error",
          "ename": "TypeError",
          "evalue": "'tuple' object does not support item assignment",
          "traceback": [
            "\u001b[0;31m---------------------------------------------------------------------------\u001b[0m",
            "\u001b[0;31mTypeError\u001b[0m                                 Traceback (most recent call last)",
            "\u001b[0;32m<ipython-input-61-6a56236e1460>\u001b[0m in \u001b[0;36m<cell line: 0>\u001b[0;34m()\u001b[0m\n\u001b[1;32m     10\u001b[0m \u001b[0;34m\u001b[0m\u001b[0m\n\u001b[1;32m     11\u001b[0m \u001b[0;31m# updating an element\u001b[0m\u001b[0;34m\u001b[0m\u001b[0;34m\u001b[0m\u001b[0m\n\u001b[0;32m---> 12\u001b[0;31m \u001b[0mt\u001b[0m\u001b[0;34m[\u001b[0m\u001b[0;36m1\u001b[0m\u001b[0;34m]\u001b[0m \u001b[0;34m=\u001b[0m \u001b[0;36m100\u001b[0m\u001b[0;34m\u001b[0m\u001b[0;34m\u001b[0m\u001b[0m\n\u001b[0m\u001b[1;32m     13\u001b[0m \u001b[0mprint\u001b[0m\u001b[0;34m(\u001b[0m\u001b[0mt\u001b[0m\u001b[0;34m)\u001b[0m\u001b[0;34m\u001b[0m\u001b[0;34m\u001b[0m\u001b[0m\n",
            "\u001b[0;31mTypeError\u001b[0m: 'tuple' object does not support item assignment"
          ]
        }
      ]
    },
    {
      "cell_type": "code",
      "source": [
        "t = (10, 5, 20)\n",
        "\n",
        "print(\"Value in t[0] = \", t[0])\n",
        "print(\"Value in t[1] = \", t[1])\n",
        "print(\"Value in t[2] = \", t[2])"
      ],
      "metadata": {
        "colab": {
          "base_uri": "https://localhost:8080/"
        },
        "id": "76-9iNH3D1a-",
        "outputId": "c641025c-af52-4c09-a514-217cb7b1dd18"
      },
      "execution_count": 62,
      "outputs": [
        {
          "output_type": "stream",
          "name": "stdout",
          "text": [
            "Value in t[0] =  10\n",
            "Value in t[1] =  5\n",
            "Value in t[2] =  20\n"
          ]
        }
      ]
    },
    {
      "cell_type": "code",
      "source": [
        "t = (10, 5, 20)\n",
        "\n",
        "print(\"Value in t[-1] = \", t[-1])\n",
        "print(\"Value in t[-2] = \", t[-2])\n",
        "print(\"Value in t[-3] = \", t[-3])"
      ],
      "metadata": {
        "colab": {
          "base_uri": "https://localhost:8080/"
        },
        "id": "ii-EytinD60i",
        "outputId": "20773047-dfcc-4515-8e67-32400b0dd29b"
      },
      "execution_count": 63,
      "outputs": [
        {
          "output_type": "stream",
          "name": "stdout",
          "text": [
            "Value in t[-1] =  20\n",
            "Value in t[-2] =  5\n",
            "Value in t[-3] =  10\n"
          ]
        }
      ]
    },
    {
      "cell_type": "code",
      "source": [],
      "metadata": {
        "id": "uBSkfezGD-aB"
      },
      "execution_count": null,
      "outputs": []
    }
  ]
}