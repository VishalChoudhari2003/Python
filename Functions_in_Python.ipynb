{
  "nbformat": 4,
  "nbformat_minor": 0,
  "metadata": {
    "colab": {
      "provenance": [],
      "authorship_tag": "ABX9TyOfa9noUDm76nlapCqna0sH",
      "include_colab_link": true
    },
    "kernelspec": {
      "name": "python3",
      "display_name": "Python 3"
    },
    "language_info": {
      "name": "python"
    }
  },
  "cells": [
    {
      "cell_type": "markdown",
      "metadata": {
        "id": "view-in-github",
        "colab_type": "text"
      },
      "source": [
        "<a href=\"https://colab.research.google.com/github/VishalChoudhari2003/Python/blob/main/Functions_in_Python.ipynb\" target=\"_parent\"><img src=\"https://colab.research.google.com/assets/colab-badge.svg\" alt=\"Open In Colab\"/></a>"
      ]
    },
    {
      "cell_type": "code",
      "execution_count": 1,
      "metadata": {
        "colab": {
          "base_uri": "https://localhost:8080/"
        },
        "id": "yq9cTxCT2dyF",
        "outputId": "f7cdac05-3ac9-40d0-e400-184a51ae3f1c"
      },
      "outputs": [
        {
          "output_type": "stream",
          "name": "stdout",
          "text": [
            "My Name is Vishal\n",
            "My Name is Vishal\n"
          ]
        }
      ],
      "source": [
        "def welcome():\n",
        "  print(\"My Name is Vishal\")\n",
        "\n",
        "\n",
        "welcome()\n",
        "welcome()"
      ]
    },
    {
      "cell_type": "code",
      "source": [
        "def sumofnumbers():\n",
        "  return 10+20\n",
        "\n",
        "sumofnumbers()"
      ],
      "metadata": {
        "colab": {
          "base_uri": "https://localhost:8080/"
        },
        "id": "upbJbOLw9OSg",
        "outputId": "c071f936-d3ee-4777-9a7c-b6e0f408ad70"
      },
      "execution_count": 2,
      "outputs": [
        {
          "output_type": "execute_result",
          "data": {
            "text/plain": [
              "30"
            ]
          },
          "metadata": {},
          "execution_count": 2
        }
      ]
    },
    {
      "cell_type": "code",
      "source": [
        "def sumofnumbers(a,b):\n",
        "  return a+b\n",
        "\n",
        "sumofnumbers(12,20)"
      ],
      "metadata": {
        "colab": {
          "base_uri": "https://localhost:8080/"
        },
        "id": "suv7CXm49cme",
        "outputId": "6ca9a66e-0de5-44a3-c1b9-5f57290825ef"
      },
      "execution_count": 4,
      "outputs": [
        {
          "output_type": "execute_result",
          "data": {
            "text/plain": [
              "32"
            ]
          },
          "metadata": {},
          "execution_count": 4
        }
      ]
    },
    {
      "cell_type": "code",
      "source": [
        "def evenandodd(a):\n",
        "  if a%2==0:\n",
        "    print(\"Even\")\n",
        "  else:\n",
        "    print(\"Odd\")\n",
        "\n",
        "evenandodd(11)"
      ],
      "metadata": {
        "colab": {
          "base_uri": "https://localhost:8080/"
        },
        "id": "y-TrNiy_9h_-",
        "outputId": "fb9022f8-96d5-44b6-8fa9-2a3eeb962058"
      },
      "execution_count": 6,
      "outputs": [
        {
          "output_type": "stream",
          "name": "stdout",
          "text": [
            "Odd\n"
          ]
        }
      ]
    },
    {
      "cell_type": "code",
      "source": [
        "def tri_recursion(k):\n",
        "  if(k > 0):\n",
        "    result = k + tri_recursion(k - 1)\n",
        "    print(result)\n",
        "  else:\n",
        "    result = 0\n",
        "  return result\n",
        "\n",
        "print(\"Recursion Example Results:\")\n",
        "tri_recursion(6)\n"
      ],
      "metadata": {
        "colab": {
          "base_uri": "https://localhost:8080/"
        },
        "id": "gRzSeSaQ-Zsl",
        "outputId": "c564cca4-efd2-4905-f52e-c386b33ccf08"
      },
      "execution_count": 7,
      "outputs": [
        {
          "output_type": "stream",
          "name": "stdout",
          "text": [
            "Recursion Example Results:\n",
            "1\n",
            "3\n",
            "6\n",
            "10\n",
            "15\n",
            "21\n"
          ]
        },
        {
          "output_type": "execute_result",
          "data": {
            "text/plain": [
              "21"
            ]
          },
          "metadata": {},
          "execution_count": 7
        }
      ]
    },
    {
      "cell_type": "code",
      "source": [],
      "metadata": {
        "id": "jPRXOnGn-7kT"
      },
      "execution_count": null,
      "outputs": []
    }
  ]
}